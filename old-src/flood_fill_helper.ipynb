{
  "nbformat": 4,
  "nbformat_minor": 0,
  "metadata": {
    "colab": {
      "name": "flood_fill_helper.ipynb",
      "provenance": [],
      "collapsed_sections": []
    },
    "kernelspec": {
      "name": "python3",
      "display_name": "Python 3"
    },
    "language_info": {
      "name": "python"
    }
  },
  "cells": [
    {
      "cell_type": "code",
      "metadata": {
        "id": "qx4R8tXHoWEH"
      },
      "source": [
        "!apt-get -qq update \n",
        "!apt-get -qq install imagemagick jq parallel\n",
        "!pip install -q yq"
      ],
      "execution_count": null,
      "outputs": []
    },
    {
      "cell_type": "code",
      "metadata": {
        "id": "MOM43_EjlQR_"
      },
      "source": [
        "!cp -n /etc/ImageMagick-6/policy.xml /content/policy.xml\n",
        "!cat /etc/ImageMagick-6/policy.xml \\\n",
        "| xq -x '(.policymap.policy[] | select(.\"@pattern\" == \"PDF\") | .\"@rights\") |= \"read|write\"' \\\n",
        "> out.xml\n",
        "!cp out.xml /etc/ImageMagick-6/policy.xml"
      ],
      "execution_count": null,
      "outputs": []
    },
    {
      "cell_type": "code",
      "metadata": {
        "id": "GXiQ98VHhgJO"
      },
      "source": [
        "# Libraries you will find useful\n",
        "import numpy as np\n",
        "import scipy \n",
        "import skimage\n",
        "import matplotlib.pyplot as plt\n",
        "import cv2\n",
        "from skimage import feature\n",
        "from PIL import Image, ImageEnhance"
      ],
      "execution_count": null,
      "outputs": []
    },
    {
      "cell_type": "code",
      "metadata": {
        "id": "HqrCJkEjrlR3"
      },
      "source": [
        "def num_file_in_dir(dir):\n",
        "    n = !ls {dir} | wc -l\n",
        "    return int(n[0])"
      ],
      "execution_count": null,
      "outputs": []
    },
    {
      "cell_type": "code",
      "metadata": {
        "id": "g4RQzMmkrxxz"
      },
      "source": [
        "def img_from_pdf(pile):\n",
        "    !cd \"/content/\"\n",
        "    !rm -r {pile}_cap\n",
        "    !mkdir -p {pile}_cap\n",
        "    !convert \"/content/drive/MyDrive/549/{pile}.pdf\" {pile}_cap/{pile}-%02d.jpg\n",
        "    # resize image\n",
        "    %pushd {pile}_cap\n",
        "    !ls *.jpg | parallel -j 20 convert -background black -gravity center -extent 50% {} {}\n",
        "    %popd"
      ],
      "execution_count": null,
      "outputs": []
    },
    {
      "cell_type": "code",
      "metadata": {
        "id": "HaCXXQtohk5K"
      },
      "source": [
        "def show_bgr(img):\n",
        "    s = 12\n",
        "    plt.figure(figsize=(s,s))\n",
        "\n",
        "    if len(img.shape) == 3:\n",
        "        plt.imshow(img[:,:,::-1])\n",
        "        return\n",
        "    \n",
        "    plt.imshow(img, cmap=\"gray\")\n",
        "\n",
        "def read_trace(trace_name, shape):\n",
        "    t = cv2.imread(trace_name, 0) / 255\n",
        "    t = cv2.resize(t, shape[::-1], interpolation=cv2.INTER_AREA)\n",
        "    return t < 0.75\n",
        "\n",
        "def process_outline(fname, shape):\n",
        "    img = cv2.imread(fname)\n",
        "    img = cv2.resize(img, shape[::-1], interpolation=cv2.INTER_AREA)\n",
        "\n",
        "    only_red = (img[:,:,0] < 50) & (img[:,:,2] > 0)\n",
        "    \n",
        "    red_loc = np.argwhere(only_red)[:1]\n",
        "\n",
        "    only_blue = (img[:,:,0] > 0) & (img[:,:,2] < 50)\n",
        "\n",
        "    return (only_blue, tuple(red_loc[0]) if len(red_loc) > 0 else None)\n",
        "\n",
        "def overlay_blue(img, mask, save_mask=None):\n",
        "\n",
        "    m_i = np.zeros(img.shape)\n",
        "    m_i[:,:,0] = mask * 1\n",
        "\n",
        "    if save_mask != None:\n",
        "        cv2.imwrite( save_mask, m_i * 255)\n",
        "\n",
        "    return 0.8 * img + 0.2 * m_i\n",
        "\n",
        "def create_annotations(pile, dry=1):\n",
        "\n",
        "    im_shape = cv2.imread(f\"/content/drive/MyDrive/549/proj/{pile}/ezgif-frame-001.jpg\").shape[:2]\n",
        "    print (im_shape)\n",
        "\n",
        "    bottom, red_loc = process_outline(f\"/content/{pile}_cap/{pile}-00.jpg\", im_shape)\n",
        "\n",
        "    if dry == 0:\n",
        "        %mkdir -p \"/content/drive/MyDrive/549/proj/masks/{pile}\"\n",
        "        %mkdir -p \"/content/drive/MyDrive/549/proj/overlays/{pile}\"\n",
        "\n",
        "    for i in range(num_file_in_dir(f\"/content/drive/MyDrive/549/proj/{pile}/\")):\n",
        "        adi = 1 + i\n",
        "        img = cv2.imread(f\"/content/drive/MyDrive/549/proj/{pile}/ezgif-frame-{adi:03d}.jpg\", 1) / 255\n",
        "        cap, _ = process_outline(f\"/content/{pile}_cap/{pile}-{adi:02d}.jpg\", im_shape)\n",
        "\n",
        "        cap = scipy.ndimage.maximum_filter(cap * 1, 2) > 0\n",
        "\n",
        "        shape = (bottom | cap) * 1\n",
        "        filled = skimage.segmentation.flood_fill(shape, red_loc, 2)\n",
        "\n",
        "        if dry == 1:\n",
        "            fig, (a,b) = plt.subplots(1,2, figsize=(10,10))\n",
        "            a.imshow(shape)\n",
        "            b.imshow(filled)\n",
        "            plt.show()\n",
        "            if i == 2:\n",
        "                break\n",
        "        else:\n",
        "            print (f\"ezgif-frame-{adi:03d}.png\")\n",
        "            overlay = overlay_blue(img, filled > 1, save_mask=f\"/content/drive/MyDrive/549/proj/masks/{pile}/ezgif-frame-{adi:03d}.png\")\n",
        "            cv2.imwrite(f\"/content/drive/MyDrive/549/proj/overlays/{pile}/ezgif-frame-{adi:03d}.png\", overlay * 255)"
      ],
      "execution_count": null,
      "outputs": []
    },
    {
      "cell_type": "code",
      "metadata": {
        "colab": {
          "base_uri": "https://localhost:8080/"
        },
        "id": "CKTpxkinWGTS",
        "outputId": "e5adcf97-9640-4678-c916-62c1ea9532a5"
      },
      "source": [
        "pile = \"pile21\"\n",
        "img_from_pdf(pile)\n",
        "create_annotations(pile,0)"
      ],
      "execution_count": null,
      "outputs": [
        {
          "output_type": "stream",
          "name": "stdout",
          "text": [
            "(480, 640)\n",
            "ezgif-frame-001.png\n",
            "ezgif-frame-002.png\n",
            "ezgif-frame-003.png\n",
            "ezgif-frame-004.png\n",
            "ezgif-frame-005.png\n",
            "ezgif-frame-006.png\n",
            "ezgif-frame-007.png\n",
            "ezgif-frame-008.png\n",
            "ezgif-frame-009.png\n",
            "ezgif-frame-010.png\n",
            "ezgif-frame-011.png\n",
            "ezgif-frame-012.png\n",
            "ezgif-frame-013.png\n",
            "ezgif-frame-014.png\n",
            "ezgif-frame-015.png\n",
            "ezgif-frame-016.png\n",
            "ezgif-frame-017.png\n",
            "ezgif-frame-018.png\n",
            "ezgif-frame-019.png\n",
            "ezgif-frame-020.png\n",
            "ezgif-frame-021.png\n",
            "ezgif-frame-022.png\n",
            "ezgif-frame-023.png\n",
            "ezgif-frame-024.png\n",
            "ezgif-frame-025.png\n",
            "ezgif-frame-026.png\n",
            "ezgif-frame-027.png\n",
            "ezgif-frame-028.png\n",
            "ezgif-frame-029.png\n",
            "ezgif-frame-030.png\n",
            "ezgif-frame-031.png\n",
            "ezgif-frame-032.png\n",
            "ezgif-frame-033.png\n",
            "ezgif-frame-034.png\n",
            "ezgif-frame-035.png\n",
            "ezgif-frame-036.png\n",
            "ezgif-frame-037.png\n",
            "ezgif-frame-038.png\n"
          ]
        }
      ]
    },
    {
      "cell_type": "code",
      "metadata": {
        "id": "fQFwWcZXz4pB"
      },
      "source": [
        ""
      ],
      "execution_count": null,
      "outputs": []
    }
  ]
}